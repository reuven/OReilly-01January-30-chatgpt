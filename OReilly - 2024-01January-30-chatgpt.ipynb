{
 "cells": [
  {
   "cell_type": "markdown",
   "metadata": {},
   "source": [
    "# Agenda: Pair Programming with ChatGPT\n",
    "\n",
    "1. What is pair programming?\n",
    "2. Intro to ChatGPT\n",
    "3. Checking and exploring code with ChatGPT\n",
    "4. Developing an application\n",
    "    - Different styles of pair programming\n",
    "    - Getting feedback from the program\n",
    "    - Making things better incrementally\n",
    "5. Adding tests to our program\n",
    "6. Making the output nicer\n",
    "7. ChatGPT and the future of programming"
   ]
  },
  {
   "cell_type": "code",
   "execution_count": null,
   "metadata": {},
   "outputs": [],
   "source": [
    "\n"
   ]
  },
  {
   "cell_type": "code",
   "execution_count": null,
   "metadata": {},
   "outputs": [],
   "source": []
  }
 ],
 "metadata": {
  "kernelspec": {
   "display_name": "Python 3 (ipykernel)",
   "language": "python",
   "name": "python3"
  },
  "language_info": {
   "codemirror_mode": {
    "name": "ipython",
    "version": 3
   },
   "file_extension": ".py",
   "mimetype": "text/x-python",
   "name": "python",
   "nbconvert_exporter": "python",
   "pygments_lexer": "ipython3",
   "version": "3.12.1"
  }
 },
 "nbformat": 4,
 "nbformat_minor": 4
}
