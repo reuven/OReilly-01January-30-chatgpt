{
 "cells": [
  {
   "cell_type": "markdown",
   "metadata": {},
   "source": [
    "# Agenda: Pair Programming with ChatGPT\n",
    "\n",
    "1. What is pair programming?\n",
    "2. Intro to ChatGPT\n",
    "3. Checking and exploring code with ChatGPT\n",
    "4. Developing an application\n",
    "    - Different styles of pair programming\n",
    "    - Getting feedback from the program\n",
    "    - Making things better incrementally\n",
    "5. Adding tests to our program\n",
    "6. Making the output nicer\n",
    "7. ChatGPT and the future of programming"
   ]
  },
  {
   "cell_type": "markdown",
   "metadata": {},
   "source": [
    "# Pair programming\n",
    "\n",
    "Most of us think that programming is a solo activity. But we also know that when you have to teach or explain something, you understand it better. Pair programming is all about improving how the coding happens, both the process of the coding and the validation of what you've written by having two people work on a single computer.\n",
    "\n",
    "People can really be against pairing at work.  But it's clearly beneficial for the coders and for the code.\n",
    "\n",
    "ChatGPT provides us with a lot of the advantages of pairing with someone else, without having to bug someone else at work. Also, it's available in whatever doses you're comfortable with.\n"
   ]
  },
  {
   "cell_type": "markdown",
   "metadata": {},
   "source": [
    "# What is ChatGPT?\n",
    "\n",
    "ChatGPT is a large language model (LLM). The idea is that if you train a machine-learning model, it'll see patterns. A model doesn't store everything it learned, and then look up those images/texts to pull out a match. Rather, it learns the contours of what each category can mean and be, and then tries to make a good guess when we show it a new value.\n",
    "\n",
    "ChatGPT it's known as \"generative\" AI, where it uses those patterns that it has learned to come up with new things. If, 100% of the time two words follow each other (\"foo bar\"), then if you ask ChatGPT to produce some text about \"foo\", it'll 100% of the time produce something that says \"Foo bar.\" But most words aren't 100% following each other, and so it's a matter of statistical likeliness.\n",
    "\n",
    "If we ask ChatGPT to write text or code or even create an image... it'll never create the same thing twice.\n",
    "\n",
    "It turns out that we can use ChatGPT to do a bunch of different things having to do with coding:\n",
    "\n",
    "- Write code\n",
    "- Analyze code\n",
    "- Analyze plans for code\n",
    "- Produce tests for our code\n",
    "- Extend existing code\n",
    "- Debug code that we've written\n",
    "\n"
   ]
  },
  {
   "cell_type": "markdown",
   "metadata": {},
   "source": [
    "# Example: Ubbi Dubbi translator\n",
    "\n",
    "Ubbi Dubbi is a children's \"secret\" language. You can translate words from English into Ubbi Dubbi, and then your parents will never understand you!\n",
    "\n",
    "The rule is: To translate a word from English into Ubbi Dubbi, put the syllable \"ub\" before every vowel (a, e, i, o, u).\n",
    "\n",
    "- milk -> mubilk\n",
    "- cookie -> cuboubokubiube\n",
    "\n",
    "I want to write a program that asks the user for a word in English, and produces the translation into Ubbi Dubbi."
   ]
  },
  {
   "cell_type": "code",
   "execution_count": 1,
   "metadata": {},
   "outputs": [
    {
     "data": {
      "text/plain": [
       "'hubellubo'"
      ]
     },
     "execution_count": 1,
     "metadata": {},
     "output_type": "execute_result"
    }
   ],
   "source": [
    "def ubbi(word):\n",
    "    output = ''\n",
    "\n",
    "    for one_letter in word:\n",
    "        if one_letter in 'aeiou':   # if it is a vowel\n",
    "            output += 'ub'\n",
    "        output += one_letter\n",
    "\n",
    "    return output\n",
    "\n",
    "ubbi('hello')"
   ]
  },
  {
   "cell_type": "code",
   "execution_count": 2,
   "metadata": {},
   "outputs": [],
   "source": [
    "def ubbi(word):\n",
    "    \"\"\"\n",
    "    Translates an English word into Ubbi Dubbi.\n",
    "\n",
    "    Parameters:\n",
    "    word (str): The word to be translated.\n",
    "\n",
    "    Returns:\n",
    "    str: The translated word in Ubbi Dubbi.\n",
    "    \"\"\"\n",
    "    output = []\n",
    "    vowels = 'aeiouAEIOU'  # Include uppercase vowels\n",
    "\n",
    "    for one_letter in word:\n",
    "        if one_letter in vowels:\n",
    "            output.append('ub')\n",
    "        output.append(one_letter)\n",
    "\n",
    "    return ''.join(output)\n"
   ]
  },
  {
   "cell_type": "code",
   "execution_count": 3,
   "metadata": {},
   "outputs": [
    {
     "data": {
      "text/plain": [
       "'hubellubo'"
      ]
     },
     "execution_count": 3,
     "metadata": {},
     "output_type": "execute_result"
    }
   ],
   "source": [
    "ubbi('hello')"
   ]
  },
  {
   "cell_type": "markdown",
   "metadata": {},
   "source": [
    "# Exercise: Pig Latin Sentence\n",
    "\n",
    "Using the same sort of back-and-forth with ChatGPT, I want you to write a Pig Latin translator.\n",
    "\n",
    "The rules for Pig Latin are:\n",
    "- If a word starts with a vowel, then add \"way\" to it\n",
    "- Otherwise, move the word's first letter to the end, and add \"ay\"\n",
    "\n",
    "Exam"
   ]
  }
 ],
 "metadata": {
  "kernelspec": {
   "display_name": "Python 3 (ipykernel)",
   "language": "python",
   "name": "python3"
  },
  "language_info": {
   "codemirror_mode": {
    "name": "ipython",
    "version": 3
   },
   "file_extension": ".py",
   "mimetype": "text/x-python",
   "name": "python",
   "nbconvert_exporter": "python",
   "pygments_lexer": "ipython3",
   "version": "3.12.1"
  }
 },
 "nbformat": 4,
 "nbformat_minor": 4
}
