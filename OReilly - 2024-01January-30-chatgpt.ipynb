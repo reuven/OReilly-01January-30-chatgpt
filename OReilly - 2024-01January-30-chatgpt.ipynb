{
 "cells": [
  {
   "cell_type": "markdown",
   "metadata": {},
   "source": [
    "# Agenda: Pair Programming with ChatGPT\n",
    "\n",
    "1. What is pair programming?\n",
    "2. Intro to ChatGPT\n",
    "3. Checking and exploring code with ChatGPT\n",
    "4. Developing an application\n",
    "    - Different styles of pair programming\n",
    "    - Getting feedback from the program\n",
    "    - Making things better incrementally\n",
    "5. Adding tests to our program\n",
    "6. Making the output nicer\n",
    "7. ChatGPT and the future of programming"
   ]
  },
  {
   "cell_type": "markdown",
   "metadata": {},
   "source": [
    "# Pair programming\n",
    "\n",
    "Most of us think that programming is a solo activity. But we also know that when you have to teach or explain something, you understand it better. Pair programming is all about improving how the coding happens, both the process of the coding and the validation of what you've written by having two people work on a single computer.\n",
    "\n",
    "People can really be against pairing at work.  But it's clearly beneficial for the coders and for the code.\n",
    "\n",
    "ChatGPT provides us with a lot of the advantages of pairing with someone else, without having to bug someone else at work. Also, it's available in whatever doses you're comfortable with.\n"
   ]
  },
  {
   "cell_type": "markdown",
   "metadata": {},
   "source": [
    "# What is ChatGPT?\n",
    "\n",
    "ChatGPT is a large language model (LLM). "
   ]
  }
 ],
 "metadata": {
  "kernelspec": {
   "display_name": "Python 3 (ipykernel)",
   "language": "python",
   "name": "python3"
  },
  "language_info": {
   "codemirror_mode": {
    "name": "ipython",
    "version": 3
   },
   "file_extension": ".py",
   "mimetype": "text/x-python",
   "name": "python",
   "nbconvert_exporter": "python",
   "pygments_lexer": "ipython3",
   "version": "3.12.1"
  }
 },
 "nbformat": 4,
 "nbformat_minor": 4
}
