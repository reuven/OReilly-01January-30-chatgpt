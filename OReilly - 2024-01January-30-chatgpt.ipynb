{
 "cells": [
  {
   "cell_type": "markdown",
   "metadata": {},
   "source": [
    "# Agenda: Pair Programming with ChatGPT\n",
    "\n",
    "1. What is pair programming?\n",
    "2. Intro to ChatGPT\n",
    "3. Checking and exploring code with ChatGPT\n",
    "4. Developing an application\n",
    "    - Different styles of pair programming\n",
    "    - Getting feedback from the program\n",
    "    - Making things better incrementally\n",
    "5. Adding tests to our program\n",
    "6. Making the output nicer\n",
    "7. ChatGPT and the future of programming"
   ]
  },
  {
   "cell_type": "markdown",
   "metadata": {},
   "source": [
    "# Pair programming\n",
    "\n",
    "Most of us think that programming is a solo activity. But we also know that when you have to teach or explain something, you understand it better. Pair programming is all about improving how the coding happens, both the process of the coding and the validation of what you've written by having two people work on a single computer.\n",
    "\n",
    "People can really be against pairing at work.  But it's clearly beneficial for the coders and for the code.\n",
    "\n",
    "ChatGPT provides us with a lot of the advantages of pairing with someone else, without having to bug someone else at work. Also, it's available in whatever doses you're comfortable with.\n"
   ]
  },
  {
   "cell_type": "markdown",
   "metadata": {},
   "source": [
    "# What is ChatGPT?\n",
    "\n",
    "ChatGPT is a large language model (LLM). The idea is that if you train a machine-learning model, it'll see patterns. A model doesn't store everything it learned, and then look up those images/texts to pull out a match. Rather, it learns the contours of what each category can mean and be, and then tries to make a good guess when we show it a new value.\n",
    "\n",
    "ChatGPT it's known as \"generative\" AI, where it uses those patterns that it has learned to come up with new things. If, 100% of the time two words follow each other (\"foo bar\"), then if you ask ChatGPT to produce some text about \"foo\", it'll 100% of the time produce something that says \"Foo bar.\" But most words aren't 100% following each other, and so it's a matter of statistical likeliness.\n",
    "\n",
    "If we ask ChatGPT to write text or code or even create an image... it'll never create the same thing twice.\n",
    "\n",
    "It turns out that we can use ChatGPT to do a bunch of different things having to do with coding:\n",
    "\n",
    "- Write code\n",
    "- Analyze code\n",
    "- Analyze plans for code\n",
    "- Produce tests for our code\n",
    "- Extend existing code\n",
    "- Debug code that we've written\n",
    "\n"
   ]
  },
  {
   "cell_type": "markdown",
   "metadata": {},
   "source": [
    "# Example: Ubbi Dubbi translator\n",
    "\n",
    "Ubbi Dubbi is a children's \"secret\" language. You can translate words from English into Ubbi Dubbi, and then your parents will never understand you!\n",
    "\n",
    "The rule is: To translate a word from English into Ubbi Dubbi, put the syllable \"ub\" before every vowel (a, e, i, o, u).\n",
    "\n",
    "- milk -> mubilk\n",
    "- cookie -> cuboubokubiube\n",
    "\n",
    "I want to write a program that asks the user for a word in English, and produces the translation into Ubbi Dubbi."
   ]
  },
  {
   "cell_type": "code",
   "execution_count": 1,
   "metadata": {},
   "outputs": [
    {
     "data": {
      "text/plain": [
       "'hubellubo'"
      ]
     },
     "execution_count": 1,
     "metadata": {},
     "output_type": "execute_result"
    }
   ],
   "source": [
    "def ubbi(word):\n",
    "    output = ''\n",
    "\n",
    "    for one_letter in word:\n",
    "        if one_letter in 'aeiou':   # if it is a vowel\n",
    "            output += 'ub'\n",
    "        output += one_letter\n",
    "\n",
    "    return output\n",
    "\n",
    "ubbi('hello')"
   ]
  },
  {
   "cell_type": "code",
   "execution_count": 2,
   "metadata": {},
   "outputs": [],
   "source": [
    "def ubbi(word):\n",
    "    \"\"\"\n",
    "    Translates an English word into Ubbi Dubbi.\n",
    "\n",
    "    Parameters:\n",
    "    word (str): The word to be translated.\n",
    "\n",
    "    Returns:\n",
    "    str: The translated word in Ubbi Dubbi.\n",
    "    \"\"\"\n",
    "    output = []\n",
    "    vowels = 'aeiouAEIOU'  # Include uppercase vowels\n",
    "\n",
    "    for one_letter in word:\n",
    "        if one_letter in vowels:\n",
    "            output.append('ub')\n",
    "        output.append(one_letter)\n",
    "\n",
    "    return ''.join(output)\n"
   ]
  },
  {
   "cell_type": "code",
   "execution_count": 3,
   "metadata": {},
   "outputs": [
    {
     "data": {
      "text/plain": [
       "'hubellubo'"
      ]
     },
     "execution_count": 3,
     "metadata": {},
     "output_type": "execute_result"
    }
   ],
   "source": [
    "ubbi('hello')"
   ]
  },
  {
   "cell_type": "markdown",
   "metadata": {},
   "source": [
    "# Exercise: Pig Latin Sentence\n",
    "\n",
    "Using the same sort of back-and-forth with ChatGPT, I want you to write a Pig Latin translator.\n",
    "\n",
    "The rules for Pig Latin are:\n",
    "- If a word starts with a vowel, then add \"way\" to it\n",
    "- Otherwise, move the word's first letter to the end, and add \"ay\"\n",
    "\n",
    "Examples:\n",
    "- elephant -> elephantway\n",
    "- octopus -> octopusway\n",
    "- computer -> omputercay\n",
    "- papaya -> apayapay\n",
    "\n",
    "1. Write some code\n",
    "2. Ask ChatGPT what it thinks, and how it can be improved\n",
    "3. What interesting perspectives/prompts can you come up with?"
   ]
  },
  {
   "cell_type": "code",
   "execution_count": null,
   "metadata": {},
   "outputs": [],
   "source": [
    "def pl_sentence(sentence):\n",
    "    output = []\n",
    "\n",
    "    for one_word in sentence.split():\n",
    "        if one_word[0] in 'aeiou':\n",
    "            output.append(one_word + 'way')\n",
    "        else:\n",
    "            output.append(one_word[1:] + one_word[0] + 'ay')\n",
    "\n",
    "    return ' '.join(output)\n"
   ]
  },
  {
   "cell_type": "code",
   "execution_count": null,
   "metadata": {},
   "outputs": [],
   "source": [
    "# working, if tedious, version of the code\n",
    "\n",
    "def pl_sentence(sentence):\n",
    "    output = []\n",
    "\n",
    "    for one_word in sentence.split():\n",
    "        if one_word[0] == 'a' or one_word[0] == 'e' or one_word[0] == 'i' or one_word[0] == 'o' or one_word[0] == 'u':\n",
    "            output.append(one_word + 'way')\n",
    "        else:\n",
    "            output.append(one_word[1:] + one_word[0] + 'ay')\n",
    "\n",
    "    return ' '.join(output)\n"
   ]
  },
  {
   "cell_type": "code",
   "execution_count": null,
   "metadata": {},
   "outputs": [],
   "source": [
    "# NOT working, buggy version\n",
    "\n",
    "def pl_sentence(sentence):\n",
    "    output = []\n",
    "\n",
    "    for one_word in sentence.split():\n",
    "        if one_word[0] == 'a' or  'e' or  'i' or  'o' or  'u':\n",
    "            output.append(one_word + 'way')\n",
    "        else:\n",
    "            output.append(one_word[1:] + one_word[0] + 'ay')\n",
    "\n",
    "    return ' '.join(output)\n"
   ]
  },
  {
   "cell_type": "markdown",
   "metadata": {},
   "source": [
    "# Example: File size reporter\n",
    "\n",
    "I want to write a Python function that takes a list of filenames as inputs, and returns a dictionary. The dict keys will be the filenames, and the dict values will be the size of each file, in bytes.\n",
    "\n",
    "What if I start to write my code, and ask ChatGPT for help?"
   ]
  },
  {
   "cell_type": "code",
   "execution_count": null,
   "metadata": {},
   "outputs": [],
   "source": [
    "def file_sizes(filenames):\n",
    "    output = []\n",
    "\n",
    "    for one_filename in filenames:\n",
    "        size = 0\n",
    "        for one_line in open(one_filename):\n",
    "            size += len(one_line)\n",
    "\n",
    "        output[one_filename] = size\n",
    "\n",
    "    return output"
   ]
  },
  {
   "cell_type": "code",
   "execution_count": null,
   "metadata": {},
   "outputs": [],
   "source": [
    "import os\n",
    "\n",
    "def file_sizes(filenames):\n",
    "    output = {}\n",
    "\n",
    "    for one_filename in filenames:\n",
    "        try:\n",
    "            size = os.path.getsize(one_filename)\n",
    "            output[one_filename] = size\n",
    "        except OSError as e:\n",
    "            print(f\"Error with file {one_filename}: {e}\")\n",
    "            output[one_filename] = None  # or another way to indicate an error\n",
    "\n",
    "    return output\n"
   ]
  },
  {
   "cell_type": "markdown",
   "metadata": {},
   "source": [
    "# Exercise: Longest word\n",
    "\n",
    "Write a function that takes a filename as input, and returns the longest word in the file. We can assume that the file contains text, and it's OK if the \"word\" contains punctuation. You can assume that words are separated by whitespace.\n",
    "\n",
    "1. Write something, even a starting point\n",
    "2. Throw it at ChatGPT to get feedback and suggestions\n",
    "3. Does it give you code? How different is it?"
   ]
  },
  {
   "cell_type": "code",
   "execution_count": null,
   "metadata": {},
   "outputs": [],
   "source": [
    "def longest_word(filename):\n",
    "    output = ''\n",
    "\n",
    "    for one_line in open(filename):\n",
    "        for one_word in one_line.split():\n",
    "            if len(one_word) > len(output):  # is the current word longer than output?\n",
    "                output = one_word            # now it has become the longest word\n",
    "\n",
    "    return output"
   ]
  },
  {
   "cell_type": "markdown",
   "metadata": {},
   "source": [
    "# Next up\n",
    "\n",
    "- Building a project\n",
    "- Different styles of pair programming\n",
    "- Doing things iteratively"
   ]
  },
  {
   "cell_type": "markdown",
   "metadata": {},
   "source": [
    "# Different styles of pair programming\n",
    "\n",
    "1. Traditional pair programming -- with two people on one computer. One \"drives\" and one \"critiques.\" The driver types and comes up with code, and navigator tells them what could/should be fixed or improved.\n",
    "2. Ping-pong pairing -- you can do that with ChatGPT as the other party, asking it to continue coding where you leave off, and for you to continue coding where it leaves off.\n",
    "3. Expert-novice pairing -- this is a bad way to think about working with ChatGPT. It has a lot of knowledge, but it also can make big mistakes."
   ]
  },
  {
   "cell_type": "markdown",
   "metadata": {},
   "source": [
    "# Compare weather application\n",
    "\n",
    "The idea is: We're going to enter the names of two locations. The assumption is that I'm in one of those locations, and I'll be traveling to another one of those locations. I want to know the *difference* in weather between those locations.\n",
    "\n",
    "Let's create an outline of what we want the application to do, and ask ChatGPT what it thinks.\n",
    "\n",
    "1. Get the current and destination cities from the user.\n",
    "2. Get the weather for my current city, and put it into a data structure.\n",
    "3. Get the weather for my destination city, and put it into a data structure.\n",
    "4. Compare the two weather reports, and put into a third data structure.\n",
    "5. Finally, pass all three data structures to a function that displays them nicely for the user."
   ]
  },
  {
   "cell_type": "markdown",
   "metadata": {},
   "source": [
    "# Next up\n",
    "\n",
    "- Adding command-line arguments with `argparse`\n",
    "- Making the output fancier with `rich`\n",
    "- Where do you go next?"
   ]
  },
  {
   "cell_type": "markdown",
   "metadata": {},
   "source": [
    "# Exercise: Arguments and tests\n",
    "\n",
    "1. Currently, our `longest_word` function is just that, a function. I want you to put it into a file (`longest_word.py`) by itself.\n",
    "2. At the bottom of that file, in a `if __name__ == '__main__'` block, ask the user for the name of the file you want to check, and then print the results.\n",
    "3. Use ChatGPT to modify that to use argparse instead, with the -f argument (for \"filename\").\n",
    "4. When this works (with an argument rather than `input`), ask ChatGPT to help you write a bunch of tests for this function."
   ]
  },
  {
   "cell_type": "code",
   "execution_count": null,
   "metadata": {},
   "outputs": [],
   "source": []
  }
 ],
 "metadata": {
  "kernelspec": {
   "display_name": "Python 3 (ipykernel)",
   "language": "python",
   "name": "python3"
  },
  "language_info": {
   "codemirror_mode": {
    "name": "ipython",
    "version": 3
   },
   "file_extension": ".py",
   "mimetype": "text/x-python",
   "name": "python",
   "nbconvert_exporter": "python",
   "pygments_lexer": "ipython3",
   "version": "3.12.1"
  }
 },
 "nbformat": 4,
 "nbformat_minor": 4
}
